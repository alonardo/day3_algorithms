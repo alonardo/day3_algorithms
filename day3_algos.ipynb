{
 "cells": [
  {
   "cell_type": "markdown",
   "metadata": {},
   "source": [
    "### Exercise #1 <br>\n",
    "<p>Reverse the list below in-place using an in-place algorithm.<br>For extra credit: Reverse the strings at the same time.</p>"
   ]
  },
  {
   "cell_type": "code",
   "execution_count": 89,
   "metadata": {},
   "outputs": [
    {
     "data": {
      "text/plain": [
       "['.', 'sentence', 'a', 'is', 'this']"
      ]
     },
     "execution_count": 89,
     "metadata": {},
     "output_type": "execute_result"
    }
   ],
   "source": [
    "words = ['this' , 'is', 'a', 'sentence', '.']\n",
    "\n",
    "def reversed_in_place(alist):\n",
    "    # setting length of list to its own variable\n",
    "    length_of_list = len(alist)\n",
    "    \n",
    "    #iterating through half the list\n",
    "    for char in range(length_of_list//2):\n",
    "        # Setting the string at the beginning of the list to equal the string at the last index, and vice versa.\n",
    "        alist[char], alist[length_of_list -1 -char] = alist[length_of_list -1 -char], alist[char]\n",
    "                \n",
    "    return alist\n",
    "\n",
    "reversed_in_place(words)\n"
   ]
  },
  {
   "cell_type": "markdown",
   "metadata": {},
   "source": [
    "### Exercise #2 <br>\n",
    "<p>Create a function that counts how many distinct words are in the string below, then outputs a dictionary with the words as the key and the value as the amount of times that word appears in the string.<br>Should output:<br>{'a': 5,<br>\n",
    " 'abstract': 1,<br>\n",
    " 'an': 3,<br>\n",
    " 'array': 2, ... etc...</p>"
   ]
  },
  {
   "cell_type": "code",
   "execution_count": 72,
   "metadata": {},
   "outputs": [
    {
     "data": {
      "text/plain": [
       "{'In': 1,\n",
       " 'computing,': 1,\n",
       " 'a': 4,\n",
       " 'hash': 4,\n",
       " 'table': 2,\n",
       " 'map': 2,\n",
       " 'is': 1,\n",
       " 'data': 2,\n",
       " 'structure': 2,\n",
       " 'which': 2,\n",
       " 'implements': 1,\n",
       " 'an': 3,\n",
       " 'associative': 1,\n",
       " 'array': 2,\n",
       " 'abstract': 1,\n",
       " 'type,': 1,\n",
       " 'that': 1,\n",
       " 'can': 2,\n",
       " 'keys': 1,\n",
       " 'to': 2,\n",
       " 'values.': 1,\n",
       " 'A': 1,\n",
       " 'uses': 1,\n",
       " 'function': 1,\n",
       " 'compute': 1,\n",
       " 'index': 1,\n",
       " 'into': 1,\n",
       " 'of': 1,\n",
       " 'buckets': 1,\n",
       " 'or': 1,\n",
       " 'slots': 1,\n",
       " 'from': 1,\n",
       " 'the': 1,\n",
       " 'desired': 1,\n",
       " 'value': 1,\n",
       " 'be': 1,\n",
       " 'found': 1}"
      ]
     },
     "execution_count": 72,
     "metadata": {},
     "output_type": "execute_result"
    }
   ],
   "source": [
    "a_text = 'In computing, a hash table hash map is a data structure which implements an associative array abstract data type, a structure that can map keys to values. A hash table uses a hash function to compute an index into an array of buckets or slots from which the desired value can be found'\n",
    "\n",
    "def count_em_up(astring):\n",
    "    # Converting string to a list to then count each word \n",
    "    words = astring.split()\n",
    "    \n",
    "    # Creating empty dictionary\n",
    "    the_count = dict()   \n",
    "\n",
    "    # Iterating through each word in list\n",
    "    for word in words:\n",
    "        \n",
    "        #If the word is already in the dictionary, increase the value by 1\n",
    "        if word in the_count:\n",
    "            the_count[word] += 1\n",
    "            \n",
    "        # If it's not in the dictionary, then add it. \n",
    "        else:\n",
    "            the_count[word] = 1\n",
    "\n",
    "    return the_count\n",
    "\n",
    "count_em_up(a_text)\n"
   ]
  },
  {
   "cell_type": "markdown",
   "metadata": {},
   "source": [
    "## Exercise #3\n",
    "\n",
    "Write a program to implement a Linear Search Algorithm. Also in a comment, write the Time Complexity of the following algorithm.\n",
    "\n",
    "#### Hint: Linear Searching will require searching a list for a given number. "
   ]
  },
  {
   "cell_type": "code",
   "execution_count": 73,
   "metadata": {},
   "outputs": [
    {
     "name": "stdout",
     "output_type": "stream",
     "text": [
      "1\n",
      "-1\n",
      "1\n"
     ]
    }
   ],
   "source": [
    "nums_list = [10,23,45,70,11,15]\n",
    "target = 70\n",
    "\n",
    "# If number is not present return -1\n",
    "\n",
    "# This solution is O(n). \n",
    "\n",
    "def check_list_for_num(a_list, num):\n",
    "    \n",
    "    #'check' will change to -1 if the number in question is not found\n",
    "    check = -1\n",
    "    for var in a_list:\n",
    "        if num == var:\n",
    "            check = 1\n",
    "        else:\n",
    "            continue\n",
    "            \n",
    "    return check\n",
    "\n",
    "# 1 = true - number is in list\n",
    "# -1 = false - number is not in list\n",
    "\n",
    "print(check_list_for_num(nums_list, target))\n",
    "print(check_list_for_num(nums_list, 9))\n",
    "print(check_list_for_num(nums_list, 23))\n"
   ]
  }
 ],
 "metadata": {
  "kernelspec": {
   "display_name": "Python 3 (ipykernel)",
   "language": "python",
   "name": "python3"
  },
  "language_info": {
   "codemirror_mode": {
    "name": "ipython",
    "version": 3
   },
   "file_extension": ".py",
   "mimetype": "text/x-python",
   "name": "python",
   "nbconvert_exporter": "python",
   "pygments_lexer": "ipython3",
   "version": "3.8.8"
  }
 },
 "nbformat": 4,
 "nbformat_minor": 2
}
